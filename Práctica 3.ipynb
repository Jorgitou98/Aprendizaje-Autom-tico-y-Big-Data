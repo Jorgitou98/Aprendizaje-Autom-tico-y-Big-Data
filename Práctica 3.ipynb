{
 "cells": [
  {
   "cell_type": "markdown",
   "metadata": {},
   "source": [
    "# Práctica 3: Regresión Logística Multi-clase y Redes Neuronales\n",
    "\n",
    "### Jorge Villarrubia Elvira y Juan Carlos Villanueva Quirós"
   ]
  },
  {
   "cell_type": "markdown",
   "metadata": {},
   "source": [
    "### Parte 1: Regresión logística multi-clase\n",
    "En esta primera parte de la práctica vamos a aplicar la regresión logística multi-clase al reconocimiento de imágenes que representan dígitos.\n",
    "\n",
    "Para ello, importamos las librerías correspondientes y cargamos las 5000 imágenes de entrenamiento del fichero *ex3data1.mat*. A continuación, entrenamos un clasificador por regresión logística para cada una de las 10 clases existentes (una por cada dígito posible). Por último, podremos usar estos clasificadores para ver cuántos ejemplos de entrenamiento clasifican correctamente. Para ello, para cada imagen, obtenemos la \"probabilidad\" de que pertenezca a cada una de las clases y nos quedamos con la máxima de ellas."
   ]
  },
  {
   "cell_type": "code",
   "execution_count": 164,
   "metadata": {},
   "outputs": [],
   "source": [
    "# Importamos todas las librerias que usaremos\n",
    "%matplotlib inline\n",
    "\n",
    "import numpy as np\n",
    "from scipy.io import loadmat\n",
    "import matplotlib.pyplot as plt\n",
    "import scipy.optimize as opt"
   ]
  },
  {
   "cell_type": "code",
   "execution_count": 165,
   "metadata": {},
   "outputs": [
    {
     "data": {
      "text/plain": [
       "(-0.5, 199.5, 19.5, -0.5)"
      ]
     },
     "execution_count": 165,
     "metadata": {},
     "output_type": "execute_result"
    },
    {
     "data": {
      "image/png": "[encoded data removed]",
      "text/plain": [
       "<Figure size 432x288 with 1 Axes>"
      ]
     },
     "metadata": {
      "needs_background": "light"
     },
     "output_type": "display_data"
    }
   ],
   "source": [
    "# Cargamos los datos que contienen las imagenes a tratar\n",
    "data = loadmat ('ex3data1.mat')\n",
    "y = data ['y']\n",
    "X = data ['X']\n",
    "\n",
    "# Para comprobar que hemos cargado los datos correctamente, cogemos una muestra de ellos (10) y los visualizamos\n",
    "sample = np.random.choice(X.shape[0], 10)\n",
    "plt.imshow(X[sample, :].reshape(-1, 20).T)\n",
    "plt.axis('off')"
   ]
  },
  {
   "cell_type": "code",
   "execution_count": 166,
   "metadata": {},
   "outputs": [],
   "source": [
    "# Funcion sigmoide, coste y gradiente que usaremos para el entrenamiento de los clasificadores de regresion logistica\n",
    "# (son las mismas que las de la practica anterior, con regularizacion)\n",
    "\n",
    "def sigmoide(z):\n",
    "    return 1 / (1 + np.exp(-z))\n",
    "\n",
    "def costeRegu(theta, X, Y, lamda):\n",
    "    m = np.shape(X)[0]\n",
    "    return (np.matmul(np.log(sigmoide(np.matmul(X, theta))).T, Y)\\\n",
    "    + np.matmul(np.log(1 - sigmoide(np.matmul(X, theta)) + 1e-6).T, (1-Y)))/-m\\\n",
    "    + lamda* np.sum(theta**2)/(2*m)\n",
    "\n",
    "def gradienteRegu(theta, X, Y, lamda):\n",
    "    m = np.shape(X)[0]\n",
    "    aux = lamda/m * theta\n",
    "    aux[0] = 0\n",
    "    return np.matmul(X.T, sigmoide(np.matmul(X,theta)) - Y)/m + aux"
   ]
  },
  {
   "cell_type": "code",
   "execution_count": 167,
   "metadata": {},
   "outputs": [],
   "source": [
    "# Funcion que nos entrenara los 10 clasificadores, uno para reconocer cada digito\n",
    "\n",
    "def oneVsAll(X, y, n_labels, reg):\n",
    "    \"\"\"oneVsAll entrena varios clasificadores por regresión logística con término\n",
    "    de regularización 'reg' y devuelve el resultado en una matriz, donde\n",
    "    la fila i-ésima corresponde al clasificador de la etiqueta i-ésima\n",
    "    \"\"\"\n",
    "    \n",
    "    theta = np.zeros(X.shape[1])\n",
    "    theta_matrix = []\n",
    "        \n",
    "    for i in range(1, n_labels + 1) :\n",
    "        y_cero = np.ravel((y == i) * 1)\n",
    "        result = opt.fmin_tnc(func = costeRegu, x0 = theta, fprime = gradienteRegu, args=(X, y_cero, reg))\n",
    "        theta_opt = result[0]\n",
    "        theta_matrix.append(theta_opt)  \n",
    "        \n",
    "    theta_matrix = np.array(theta_matrix)\n",
    "    \n",
    "    return theta_matrix"
   ]
  },
  {
   "cell_type": "code",
   "execution_count": 168,
   "metadata": {},
   "outputs": [],
   "source": [
    "# Añadimos una columna de 1's a la X, para poder realizar los calculos vectorialmente\n",
    "m = X.shape[0]\n",
    "X_conUnos = np.hstack([np.ones([m,1]), X])\n",
    "\n",
    "# Obtenemos la matriz de pesos, donde cada fila corresponde a los pesos de un clasificador\n",
    "theta_matrix = oneVsAll(X_conUnos, y, 10, 0.1)"
   ]
  },
  {
   "cell_type": "code",
   "execution_count": 169,
   "metadata": {},
   "outputs": [
    {
     "name": "stdout",
     "output_type": "stream",
     "text": [
      "96.48\n"
     ]
    }
   ],
   "source": [
    "#Obtenemos la probabilidad de cada uno de los clasificadores, para todos los ejemplos de entrenamiento\n",
    "probability = sigmoide(np.matmul(X_conUnos, theta_matrix.T))\n",
    "#Nos quedamos con el indice que contiene la mayor probabilidad \n",
    "#(Ojo: sumamos 1 porque el 0 esta codificado como 10 y asi hacemos corresponder los indices con las etiquetas)\n",
    "index = np.argmax(probability, axis=1) + 1\n",
    "\n",
    "#Imprimimos por pantalla que porcentaje de ejemplos de entrenamiento hemos clasificado correctamente\n",
    "print(np.sum(index == np.ravel(y)) / len(y) * 100)"
   ]
  },
  {
   "cell_type": "markdown",
   "metadata": {},
   "source": [
    "Comprobamos que, tal y como advierte el enunciado, para un valor del término de regularización de 0.1 el resultado está en torno al 95%."
   ]
  },
  {
   "cell_type": "markdown",
   "metadata": {},
   "source": [
    "### Parte 2: Redes Neuronales\n",
    "El objetivo de esta segunda parte de la práctica es usar los pesos proporcionados para una red neuronal ya entrenada sobre los ejemplos. Con ello, podremos evaluar su precisión sobre el conjunto de entrenamiento. Por lo tanto, deberemos conseguir realizar el forward-propagation corréctamente. \n",
    "\n",
    "Para ello, cargamos los pesos del fichero *ex3weights.mat* e implementamos la propagación hacia adelante."
   ]
  },
  {
   "cell_type": "code",
   "execution_count": 170,
   "metadata": {},
   "outputs": [],
   "source": [
    "# Cargamos los pesos de la red neuronal\n",
    "weights = loadmat('ex3weights.mat')\n",
    "theta1, theta2 = weights['Theta1'], weights['Theta2']\n",
    "# Obtenemos dos matrices de pesos, una para cada capa (sin tener en cuenta la capa de entrada)\n",
    "# Theta1 es de dimension 25 x 401\n",
    "# Theta2 es de dimension 10 x 26"
   ]
  },
  {
   "cell_type": "code",
   "execution_count": 171,
   "metadata": {},
   "outputs": [],
   "source": [
    "# Funcion que nos computara el forward-propagation. \n",
    "def forwardPropagation(X, layers):\n",
    "    #La variable 'a' corresponde a la entrada de cada capa, que al principio seran los datos de entrada X.\n",
    "    #Ojo: trasponemos para tratar las dimensiones correctamente\n",
    "    a = X.T\n",
    "    \n",
    "    for i in range(len(layers)):\n",
    "        #Añadimos unos a la entrada de cada capa (los terminos independientes)\n",
    "        a = np.vstack([np.ones([a.shape[1]]), a])\n",
    "        \n",
    "        #Cogemos los pesos correspondientes a la capa que toca\n",
    "        thetas = layers[i]\n",
    "        \n",
    "        #Hacemos la multiplicacion\n",
    "        z = np.matmul(thetas, a)\n",
    "        \n",
    "        #Y por ultimo la funcion de activacion\n",
    "        a = sigmoide(z)\n",
    "    \n",
    "    #Al salir del bucle, tendremos la salida de la red neuronal\n",
    "    #Trasponemos para devolver la misma forma que los datos de entrada\n",
    "    return a.T"
   ]
  },
  {
   "cell_type": "code",
   "execution_count": 172,
   "metadata": {},
   "outputs": [
    {
     "name": "stdout",
     "output_type": "stream",
     "text": [
      "97.52\n"
     ]
    }
   ],
   "source": [
    "#Nuevamente, obtenemos la probabilidad para todos los ejemplos de entrenamiento, de que pertenezca a cada clase\n",
    "probability = (forwardPropagation(X, [theta1, theta2]))\n",
    "#Y volvemos a quedarnos con el indice que contiene la mayor probabilidad, ajustando correctamente los indices\n",
    "index = np.argmax(probability, axis=1) + 1\n",
    "\n",
    "#Por ultimo, imprimimos por pantalla el porcentaje de ejemplos de entrenamiento que hemos clasificado correctamente\n",
    "print(np.sum(index == np.ravel(y)) / len(y) * 100)"
   ]
  },
  {
   "cell_type": "markdown",
   "metadata": {},
   "source": [
    "Como observamos, tal y como nos dice el enunciado de la práctica, obtenemos una precisión de la red neuronal del 97.52%."
   ]
  },
  {
   "cell_type": "code",
   "execution_count": null,
   "metadata": {},
   "outputs": [],
   "source": []
  }
 ],
 "metadata": {
  "kernelspec": {
   "display_name": "Python 3",
   "language": "python",
   "name": "python3"
  },
  "language_info": {
   "codemirror_mode": {
    "name": "ipython",
    "version": 3
   },
   "file_extension": ".py",
   "mimetype": "text/x-python",
   "name": "python",
   "nbconvert_exporter": "python",
   "pygments_lexer": "ipython3",
   "version": "3.7.3"
  }
 },
 "nbformat": 4,
 "nbformat_minor": 5
}
