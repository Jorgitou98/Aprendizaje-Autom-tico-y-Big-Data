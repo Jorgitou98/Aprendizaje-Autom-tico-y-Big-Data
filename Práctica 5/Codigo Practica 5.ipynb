{
 "cells": [
  {
   "cell_type": "markdown",
   "metadata": {},
   "source": [
    "# Práctica 5: Regresión lineal regularizada: sesgo y varianza\n",
    "\n",
    "### Jorge Villarrubia Elvira y Juan Carlos Villanueva Quirós"
   ]
  },
  {
   "cell_type": "markdown",
   "metadata": {},
   "source": [
    "### 1. Regresión lineal regularizada\n",
    "En esta práctica comprobaremos los efectos del sesgo (bias) y la varianza (variance). \n",
    "\n",
    "Para ello, en esta primera parte cargamos los ficheros de datos de *ex5data1.mat* que se corresponden con los datos históricos sobre el agua que ha derramado una presa en base a los cambios del nivel del agua. Obtenemos de estos datos un diccionario *dic* que contiene los datos de entrenamiento, validación y prueba.\n",
    "\n",
    "Además, implementamos las funciones de coste y gradiente de la regresión lineal regularizada y usamos la función *scipy.optimize.minimize* para encontrar el valor óptimo $\\theta$ que minimiza el error sobre los ejemplos de entrenamiento."
   ]
  },
  {
   "cell_type": "code",
   "execution_count": 289,
   "metadata": {},
   "outputs": [],
   "source": [
    "#Importamos todas las librerias y funciones externas que usamos\n",
    "from scipy.io import loadmat\n",
    "from scipy.optimize import minimize\n",
    "from matplotlib import pyplot as plt\n",
    "\n",
    "import numpy as np"
   ]
  },
  {
   "cell_type": "code",
   "execution_count": 290,
   "metadata": {},
   "outputs": [],
   "source": [
    "def fun_coste(theta, X, Y, lamda) :\n",
    "    \"\"\"\n",
    "    Args:\n",
    "        theta: vector con los parametros de la regresion\n",
    "        X: vector con los valores de entrada\n",
    "        Y: vector con los valores reales\n",
    "        lamda: coeficiente de regularizacion\n",
    "     \n",
    "    Calcula el coste de la regresion lineal regularizada\n",
    "    \"\"\"\n",
    "    Y_ravel = Y.ravel()\n",
    "    m = len(X)\n",
    "    regu = (lamda * np.sum(theta[1:]**2)) / (2*m)\n",
    "    return np.sum((fun_h(theta, X) - Y_ravel)**2) / (2*m) + regu\n",
    "\n",
    "def fun_h(theta, X) :\n",
    "    \"\"\"\n",
    "    Args:\n",
    "        theta: vector con los parametros de la regresion\n",
    "        X: vector con los valores de entrada\n",
    "    \n",
    "    Dados los parametros y el vector X de valores a predecir, evalua la regresion en los puntos X.\n",
    "    \"\"\"\n",
    "    return np.matmul(X, theta)\n",
    "\n",
    "def gradiente(theta, X, Y, lamda) :\n",
    "    \"\"\"\n",
    "    Args:\n",
    "        theta: vector con los parametros de la regresion\n",
    "        X: vector con los valores de entrada\n",
    "        Y: vector con los valores reales\n",
    "        lamda: coeficiente de regularizacion\n",
    "    \n",
    "    Calcula el gradiente de la regresion lineal regularizada\n",
    "    \"\"\"\n",
    "    Y_ravel = Y.ravel()\n",
    "    m = len(X)\n",
    "    regu = lamda/m * theta\n",
    "    regu[0] = 0\n",
    "    return  np.matmul(X.T, (fun_h(theta, X) - Y_ravel)) / m + regu"
   ]
  },
  {
   "cell_type": "code",
   "execution_count": 291,
   "metadata": {},
   "outputs": [
    {
     "name": "stdout",
     "output_type": "stream",
     "text": [
      "Coste:  303.9931922202643 \n",
      "Gradiente: [-15.30301567 598.25074417]\n"
     ]
    }
   ],
   "source": [
    "#Cargamos a un diccionario los datos del fichero \n",
    "dic = loadmat(\"ex5data1.mat\")\n",
    "X = dic['X']\n",
    "Y = dic['y']\n",
    "\n",
    "m = np.shape(X)[0]\n",
    "#Anadimos unos a los valores de entrada (termino independiente)\n",
    "X_ones = np.hstack([np.ones([m, 1]), X])\n",
    "#Inicializamos los parametros y coeficientes de regularizacion\n",
    "theta = np.ones(2)\n",
    "lamda = 1\n",
    "\n",
    "#Calculamos coste y gradiente\n",
    "coste = fun_coste(theta, X_ones, Y, lamda)\n",
    "grad = gradiente(theta, X_ones, Y, lamda)\n",
    "print(\"Coste: \", coste, \"\\nGradiente:\", grad)"
   ]
  },
  {
   "cell_type": "code",
   "execution_count": 292,
   "metadata": {
    "scrolled": true
   },
   "outputs": [
    {
     "data": {
      "image/png": "[encoded data removed]",
      "text/plain": [
       "<Figure size 432x288 with 1 Axes>"
      ]
     },
     "metadata": {
      "needs_background": "light"
     },
     "output_type": "display_data"
    }
   ],
   "source": [
    "theta = np.ones(2)\n",
    "lamda = 0\n",
    "#Calculamos valor thetas optimos\n",
    "fun = minimize(fun=fun_coste, x0 = theta, args=(X_ones, Y, lamda))\n",
    "\n",
    "#Imprimimos la recta por pantalla\n",
    "step = 500\n",
    "grid = np.linspace(X.min(), X.max(), step)\n",
    "grid_ones = np.hstack([np.ones([step,1]), grid.reshape(step,1)])\n",
    "plt.scatter(X, Y, marker = 'x', color = 'red')\n",
    "plt.plot(grid, fun_h(fun.x, grid_ones))\n",
    "plt.show()"
   ]
  },
  {
   "cell_type": "markdown",
   "metadata": {},
   "source": [
    "Como podemos comprobar, el coste, gradiente y recta nos quedan idénticos a los valores que debemos obtener, como describe el enunciado. "
   ]
  },
  {
   "cell_type": "markdown",
   "metadata": {},
   "source": [
    "### 2. Curvas de aprendizaje\n",
    "A continuación, vamos a obtener las curvas de aprendizaje para identificar situaciones de sesgo (underfitting) y varianza (overfitting).\n",
    "\n",
    "Para ello, repetimos el entrenamiento de regresión lineal utilizando diferentes subconjuntos de los datos de entrenamiento. En concreto, usaremos $X[0:i]$ e $Y[0:i]$. Después, comparamos el error sobre el subconjunto de entrenamiento con el error con el subconjunto de validación."
   ]
  },
  {
   "cell_type": "code",
   "execution_count": 293,
   "metadata": {
    "scrolled": true
   },
   "outputs": [
    {
     "data": {
      "image/png": "[encoded data removed]",
      "text/plain": [
       "<Figure size 432x288 with 1 Axes>"
      ]
     },
     "metadata": {
      "needs_background": "light"
     },
     "output_type": "display_data"
    }
   ],
   "source": [
    "#Obtenemos los datos de validacion\n",
    "Xval = dic['Xval']\n",
    "Yval = dic['yval']\n",
    "Xval_ones = np.hstack([np.ones([np.shape(Xval)[0], 1]), Xval])\n",
    "\n",
    "#Inicializamos thetas y vectores de coste\n",
    "costesTrain = []\n",
    "costesVal = []\n",
    "theta = np.ones(2)\n",
    "\n",
    "#Para cada subconjunto X[0:i] de los datos de entrenamiento\n",
    "for i in range(1,m+1):\n",
    "    #Calculamos thetas optimas y guardamos los errores\n",
    "    fun = minimize(fun=fun_coste, x0 = theta, args=(X_ones[0:i], Y[0:i], 0))\n",
    "    costesTrain.append(fun_coste(fun.x, X_ones[0:i], Y[0:i], 0))\n",
    "    costesVal.append(fun_coste(fun.x, Xval_ones, Yval, 0))\n",
    "\n",
    "#Imprimimos por pantalla los costes resultantes\n",
    "plt.plot(range(1,m+1), costesTrain)\n",
    "plt.plot(range(1,m+1), costesVal)\n",
    "plt.show()"
   ]
  },
  {
   "cell_type": "markdown",
   "metadata": {},
   "source": [
    "Obtenemos la gráfica que nos debe resultar según el enunciado. Como podemos apreciar, ambos errores se aproximan considerablemente al aumentar el número de ejemplos de entrenamiento. Esto indica que el aprendizaje está sesgado y es necesario utilizar una hipótesis más expresiva que sea capaz de ajustarse mejor a los ejemplos de entrenamiento."
   ]
  },
  {
   "cell_type": "markdown",
   "metadata": {},
   "source": [
    "### 3. Regresión polinomial\n",
    "Como ya hemos visto en prácticas anteriores, podemos conseguir un mayor ajuste a los datos de entrenamiento usando combinaciones polinómicas de los atributos de los datos de entrada. En nuestro caso, usaremos como hipótesis un polinomio:\n",
    "$h_\\theta(x) = \\theta_0 + \\theta_1 x_1 + \\theta_2 x_2 + ... + \\theta_p x_p$\n",
    "\n",
    "Para ello, implementamos una función que genera los nuevos datos de entrenamiento a partir de los originales. Además, implementamos otra función para normalizar los atributos resultantes, y de este modo evitar las grandes diferencias de rango.\n",
    "\n",
    "Por último, aplicamos el método de regresión lineal con un polinomio de grado $p = 8$."
   ]
  },
  {
   "cell_type": "code",
   "execution_count": 294,
   "metadata": {},
   "outputs": [],
   "source": [
    "def build_polynomial_data(X, p):\n",
    "    \"\"\"\n",
    "    Args:\n",
    "        X: Datos de entrada (matriz m x 1)\n",
    "        p: Grado del polinomio\n",
    "    \n",
    "    Dados unos datos de entrada, genera los nuevos datos de entrenamiento, que seran\n",
    "    una matriz m x p en la que en la columna i tendra los valores X^i.\n",
    "    \"\"\"\n",
    "    aux = X\n",
    "    for i in range(2, p+1):\n",
    "        aux = np.hstack([aux, np.reshape(X[:, 0]**i, (X[:,0].shape[0],1))])\n",
    "    return aux\n",
    "\n",
    "def normalize_data(X):\n",
    "    \"\"\"\n",
    "    Args:\n",
    "        X: Datos de entrada\n",
    "        \n",
    "    Dados unos datos de entrada, los normaliza haciendo (datos - media) / desviacion_estandar.\n",
    "    Ademas, devuelve las medias y desviaciones estandar obtenidas\n",
    "    \"\"\"\n",
    "    \n",
    "    media = np.mean(X, axis = 0)\n",
    "    desviacion = np.std(X, axis = 0)\n",
    "    return (X - media) / desviacion, media, desviacion\n",
    "\n",
    "def normalize_data_params(X, media, desviacion):\n",
    "    \"\"\"\n",
    "    Args:\n",
    "        X: Datos de entrada\n",
    "        media:\n",
    "        desviacion:\n",
    "    Dados unos datos de entrada, media y desviacion, realiza la normalizacion\n",
    "    \"\"\"\n",
    "    return (X - media) / desviacion"
   ]
  },
  {
   "cell_type": "code",
   "execution_count": 295,
   "metadata": {},
   "outputs": [
    {
     "data": {
      "image/png": "[encoded data removed]",
      "text/plain": [
       "<Figure size 432x288 with 1 Axes>"
      ]
     },
     "metadata": {
      "needs_background": "light"
     },
     "output_type": "display_data"
    }
   ],
   "source": [
    "#Generamos los nuevos datos de entrada, los normalizamos y les anadimos unos.\n",
    "p = 8\n",
    "X_poly_norm, media, desviacion = normalize_data(build_polynomial_data(X, p))\n",
    "X_poly_norm_ones = np.hstack([np.ones([X_poly_norm.shape[0], 1]), X_poly_norm])\n",
    "\n",
    "#Obtenemos los thetas optimos\n",
    "theta = np.ones(p+1)\n",
    "fun = minimize(fun=fun_coste, x0 = theta, args=(X_poly_norm_ones, Y, 0))\n",
    "\n",
    "#Imprimimos por pantalla hipotesis obtenida\n",
    "step = 500\n",
    "grid = np.linspace(X.min(), X.max(), step)\n",
    "#Es necesario normalizar los valores a predecir con la misma transformacion que a los de entrenamiento\n",
    "grid_poly = normalize_data_params(build_polynomial_data(np.reshape(grid, (step,1)), p), media, desviacion)\n",
    "\n",
    "grid_poly_ones = np.hstack([np.ones([step,1]), grid_poly.reshape(step,p)])\n",
    "plt.scatter(X, Y, marker = 'x', color = 'red')\n",
    "plt.plot(grid, fun_h(fun.x, grid_poly_ones))\n",
    "plt.show()"
   ]
  },
  {
   "cell_type": "markdown",
   "metadata": {},
   "source": [
    "A continuación, generamos las curvas de aprendizaje para la hipótesis polinomial, utilizando la misma técnica del apartado anterior."
   ]
  },
  {
   "cell_type": "code",
   "execution_count": 296,
   "metadata": {
    "scrolled": true
   },
   "outputs": [
    {
     "data": {
      "image/png": "[encoded data removed]",
      "text/plain": [
       "<Figure size 432x288 with 1 Axes>"
      ]
     },
     "metadata": {
      "needs_background": "light"
     },
     "output_type": "display_data"
    }
   ],
   "source": [
    "costesTrain = []\n",
    "costesVal = []\n",
    "theta = np.zeros(p+1)\n",
    "\n",
    "#Generamos los datos de validacion, normalizamos y anadimos unos\n",
    "Xval_norm = normalize_data_params(build_polynomial_data(Xval, p), media, desviacion)\n",
    "Xval_norm_ones = np.hstack([np.ones([Xval_norm.shape[0], 1]), Xval_norm])\n",
    "\n",
    "for i in range(1,m+1):    \n",
    "    fun = minimize(fun=fun_coste, x0 = theta, args=(X_poly_norm_ones[0:i], Y[0:i], 0))\n",
    "    costesTrain.append(fun_coste(fun.x, X_poly_norm_ones[0:i], Y[0:i], 0))\n",
    "    costesVal.append(fun_coste(fun.x, Xval_norm_ones, Yval_ravel, 0))\n",
    "\n",
    "#Imprimimos por pantalla los costes obtenidos\n",
    "plt.plot(range(1,m+1), costesTrain)\n",
    "plt.plot(range(1,m+1), costesVal)\n",
    "plt.show()"
   ]
  },
  {
   "cell_type": "markdown",
   "metadata": {},
   "source": [
    "Por último, probamos el efecto que tiene el término de regularización repitiendo el proceso para $\\lambda = 1$ y $\\lambda = 100$"
   ]
  },
  {
   "cell_type": "code",
   "execution_count": 297,
   "metadata": {},
   "outputs": [
    {
     "data": {
      "image/png": "[encoded data removed]",
      "text/plain": [
       "<Figure size 432x288 with 1 Axes>"
      ]
     },
     "metadata": {
      "needs_background": "light"
     },
     "output_type": "display_data"
    },
    {
     "data": {
      "image/png": "[encoded data removed]",
      "text/plain": [
       "<Figure size 432x288 with 1 Axes>"
      ]
     },
     "metadata": {
      "needs_background": "light"
     },
     "output_type": "display_data"
    }
   ],
   "source": [
    "costesTrainOne = []\n",
    "costesTrainTwo = []\n",
    "costesValOne = []\n",
    "costesValTwo = []\n",
    "theta = np.zeros(p+1)\n",
    "\n",
    "for i in range(1,m+1):    \n",
    "    #Coeficiente regularizacion igual a 1\n",
    "    fun = minimize(fun=fun_coste, x0 = theta, args=(X_poly_norm_ones[0:i], Y[0:i], 1))\n",
    "    costesTrainOne.append(fun_coste(fun.x, X_poly_norm_ones[0:i], Y[0:i], 0))\n",
    "    costesValOne.append(fun_coste(fun.x, Xval_norm_ones, Yval_ravel, 0))\n",
    "\n",
    "    #Coeficiente regularizacion igual a 100\n",
    "    fun = minimize(fun=fun_coste, x0 = theta, args=(X_poly_norm_ones[0:i], Y[0:i], 100))    \n",
    "    costesTrainTwo.append(fun_coste(fun.x, X_poly_norm_ones[0:i], Y[0:i], 0))\n",
    "    costesValTwo.append(fun_coste(fun.x, Xval_norm_ones, Yval_ravel, 0))\n",
    "    \n",
    "#Imprimimos por pantalla los costes obtenidos\n",
    "plt.plot(range(1,m+1), costesTrainOne)\n",
    "plt.plot(range(1,m+1), costesValOne)\n",
    "plt.title('$\\lambda = 1$')\n",
    "plt.show()\n",
    "\n",
    "plt.plot(range(1,m+1), costesTrainTwo)\n",
    "plt.plot(range(1,m+1), costesValTwo)\n",
    "plt.title('$\\lambda = 100$')\n",
    "plt.show()"
   ]
  },
  {
   "cell_type": "markdown",
   "metadata": {},
   "source": [
    "### 4. Selección del parámetro $\\lambda$\n",
    "Como ya hemos visto, el coeficiente de regularización permite controlar el grado de ajuste a los ejemplos de entrenamiento. Para elegir el mejor valor posible de $\\lambda$, probamos con varios valores y nos quedamos con aquel que minimice el error para un conjunto de ejemplos de validación."
   ]
  },
  {
   "cell_type": "code",
   "execution_count": 298,
   "metadata": {
    "scrolled": false
   },
   "outputs": [
    {
     "data": {
      "image/png": "[encoded data removed]",
      "text/plain": [
       "<Figure size 432x288 with 1 Axes>"
      ]
     },
     "metadata": {
      "needs_background": "light"
     },
     "output_type": "display_data"
    }
   ],
   "source": [
    "#Valores de lambda a probar\n",
    "lamda_vector = [0, 0.001, 0.003, 0.01, 0.03, 0.1, 0.3, 1, 3, 10]\n",
    "costesTrain = []\n",
    "costesVal = []\n",
    "theta = np.zeros(p+1)\n",
    "\n",
    "for lamda in lamda_vector :\n",
    "    fun = minimize(fun=fun_coste, x0 = theta, args=(X_poly_norm_ones, Y, lamda))\n",
    "    costesTrain.append(fun_coste(fun.x, X_poly_norm_ones, Y, 0))\n",
    "    costesVal.append(fun_coste(fun.x, Xval_norm_ones, Yval_ravel, 0))\n",
    "\n",
    "#Imprimos los costes obtenidos\n",
    "plt.plot(lamda_vector, costesTrain)\n",
    "plt.plot(lamda_vector, costesVal)\n",
    "plt.show()\n",
    "    "
   ]
  },
  {
   "cell_type": "markdown",
   "metadata": {},
   "source": [
    "Como podemos ver, el mejor valor de $\\lambda$ es 3. Para acabar, estimamos el error de la hipótesis aplicándola al conjuntos de datos de prueba."
   ]
  },
  {
   "cell_type": "code",
   "execution_count": 299,
   "metadata": {},
   "outputs": [
    {
     "data": {
      "text/plain": [
       "3.5720273027516343"
      ]
     },
     "execution_count": 299,
     "metadata": {},
     "output_type": "execute_result"
    }
   ],
   "source": [
    "#Obtenemos los datos de prueba\n",
    "Xtest = dic['Xtest']\n",
    "Ytest = dic['ytest']\n",
    "\n",
    "#Generamos los datos polinomiales, normalizamos y anadimos unos\n",
    "Xtest_norm = normalize_data_params(build_polynomial_data(Xtest, p), media, desviacion)\n",
    "Xtest_norm_ones = np.hstack([np.ones([Xtest_norm.shape[0], 1]), Xtest_norm])\n",
    "theta = np.zeros(p+1)\n",
    "\n",
    "#Hallamos thetas optimos y calculamos el coste\n",
    "fun = minimize(fun=fun_coste, x0 = theta, args=(X_poly_norm_ones, Y, 3))\n",
    "fun_coste(fun.x, Xtest_norm_ones, Ytest.ravel(), 0)"
   ]
  },
  {
   "cell_type": "markdown",
   "metadata": {},
   "source": [
    "Y obtenemos el error que se nos indica en el enunciado."
   ]
  }
 ],
 "metadata": {
  "kernelspec": {
   "display_name": "Python 3",
   "language": "python",
   "name": "python3"
  },
  "language_info": {
   "codemirror_mode": {
    "name": "ipython",
    "version": 3
   },
   "file_extension": ".py",
   "mimetype": "text/x-python",
   "name": "python",
   "nbconvert_exporter": "python",
   "pygments_lexer": "ipython3",
   "version": "3.7.3"
  }
 },
 "nbformat": 4,
 "nbformat_minor": 5
}
